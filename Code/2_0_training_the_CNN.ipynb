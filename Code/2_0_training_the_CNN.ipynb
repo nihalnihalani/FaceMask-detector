{
  "nbformat": 4,
  "nbformat_minor": 0,
  "metadata": {
    "kernelspec": {
      "display_name": "Python 3",
      "language": "python",
      "name": "python3"
    },
    "language_info": {
      "codemirror_mode": {
        "name": "ipython",
        "version": 3
      },
      "file_extension": ".py",
      "mimetype": "text/x-python",
      "name": "python",
      "nbconvert_exporter": "python",
      "pygments_lexer": "ipython3",
      "version": "3.7.7"
    },
    "colab": {
      "name": "2.0 training the CNN.ipynb",
      "provenance": [],
      "include_colab_link": true
    }
  },
  "cells": [
    {
      "cell_type": "markdown",
      "metadata": {
        "id": "view-in-github",
        "colab_type": "text"
      },
      "source": [
        "<a href=\"https://colab.research.google.com/github/nihalnihalani/FaceMask-detector/blob/master/2_0_training_the_CNN.ipynb\" target=\"_parent\"><img src=\"https://colab.research.google.com/assets/colab-badge.svg\" alt=\"Open In Colab\"/></a>"
      ]
    },
    {
      "cell_type": "code",
      "metadata": {
        "id": "544MvGuwe3m1",
        "colab_type": "code",
        "colab": {}
      },
      "source": [
        "import numpy as np\n",
        "\n",
        "data=np.load('data.npy')\n",
        "target=np.load('target.npy')\n",
        "\n",
        "#loading the save numpy arrays in the previous code"
      ],
      "execution_count": 0,
      "outputs": []
    },
    {
      "cell_type": "code",
      "metadata": {
        "id": "yyqvus4je3m9",
        "colab_type": "code",
        "colab": {}
      },
      "source": [
        "from keras.models import Sequential\n",
        "from keras.layers import Dense,Activation,Flatten,Dropout\n",
        "from keras.layers import Conv2D,MaxPooling2D\n",
        "from keras.callbacks import ModelCheckpoint\n",
        "\n",
        "model=Sequential()\n",
        "\n",
        "model.add(Conv2D(100,(3,3),input_shape=data.shape[1:]))\n",
        "model.add(Activation('relu'))\n",
        "model.add(MaxPooling2D(pool_size=(2,2)))\n",
        "#The first CNN layer followed by Relu and MaxPooling layers\n",
        "\n",
        "model.add(Conv2D(100,(3,3)))\n",
        "model.add(Activation('relu'))\n",
        "model.add(MaxPooling2D(pool_size=(2,2)))\n",
        "#The second convolution layer followed by Relu and MaxPooling layers\n",
        "\n",
        "model.add(Flatten())\n",
        "model.add(Dropout(0.5))\n",
        "#Flatten layer to stack the output convolutions from second convolution layer\n",
        "model.add(Dense(50,activation='relu'))\n",
        "#Dense layer of 64 neurons\n",
        "model.add(Dense(2,activation='softmax'))\n",
        "#The Final layer with two outputs for two categories\n",
        "\n",
        "model.compile(loss='binary_crossentropy',optimizer='adam',metrics=['accuracy'])"
      ],
      "execution_count": 0,
      "outputs": []
    },
    {
      "cell_type": "code",
      "metadata": {
        "id": "sKXq6Niwe3nB",
        "colab_type": "code",
        "colab": {}
      },
      "source": [
        "from sklearn.model_selection import train_test_split\n",
        "\n",
        "train_data,test_data,train_target,test_target=train_test_split(data,target,test_size=0.1)"
      ],
      "execution_count": 0,
      "outputs": []
    },
    {
      "cell_type": "code",
      "metadata": {
        "id": "9-GQIJege3nE",
        "colab_type": "code",
        "colab": {},
        "outputId": "7023b90b-5700-408d-f16c-876bdc033fec"
      },
      "source": [
        "checkpoint = ModelCheckpoint('model-{epoch:03d}.model',monitor='val_loss',verbose=0,save_best_only=True,mode='auto')\n",
        "history=model.fit(train_data,train_target,epochs=20,callbacks=[checkpoint],validation_split=0.2)"
      ],
      "execution_count": 0,
      "outputs": [
        {
          "output_type": "stream",
          "text": [
            "Train on 990 samples, validate on 248 samples\n",
            "Epoch 1/20\n",
            "990/990 [==============================] - 24s 24ms/step - loss: 0.7455 - accuracy: 0.5636 - val_loss: 0.6569 - val_accuracy: 0.5161\n",
            "Epoch 2/20\n",
            "990/990 [==============================] - 26s 26ms/step - loss: 0.5443 - accuracy: 0.7323 - val_loss: 0.4363 - val_accuracy: 0.8145\n",
            "Epoch 3/20\n",
            "990/990 [==============================] - 23s 23ms/step - loss: 0.3874 - accuracy: 0.8313 - val_loss: 0.3551 - val_accuracy: 0.8548\n",
            "Epoch 4/20\n",
            "990/990 [==============================] - 22s 22ms/step - loss: 0.3384 - accuracy: 0.8404 - val_loss: 0.3016 - val_accuracy: 0.8669\n",
            "Epoch 5/20\n",
            "990/990 [==============================] - 22s 22ms/step - loss: 0.2287 - accuracy: 0.9192 - val_loss: 0.2209 - val_accuracy: 0.9113\n",
            "Epoch 6/20\n",
            "990/990 [==============================] - 21s 21ms/step - loss: 0.1569 - accuracy: 0.9414 - val_loss: 0.1613 - val_accuracy: 0.9435\n",
            "Epoch 7/20\n",
            "990/990 [==============================] - 21s 22ms/step - loss: 0.1392 - accuracy: 0.9414 - val_loss: 0.2222 - val_accuracy: 0.9234\n",
            "Epoch 8/20\n",
            "990/990 [==============================] - 21s 21ms/step - loss: 0.1310 - accuracy: 0.9485 - val_loss: 0.1371 - val_accuracy: 0.9476\n",
            "Epoch 9/20\n",
            "990/990 [==============================] - 21s 21ms/step - loss: 0.0595 - accuracy: 0.9848 - val_loss: 0.1476 - val_accuracy: 0.9395\n",
            "Epoch 10/20\n",
            "990/990 [==============================] - 21s 21ms/step - loss: 0.0687 - accuracy: 0.9778 - val_loss: 0.1597 - val_accuracy: 0.9435\n",
            "Epoch 11/20\n",
            "990/990 [==============================] - 21s 21ms/step - loss: 0.0657 - accuracy: 0.9798 - val_loss: 0.1721 - val_accuracy: 0.9435\n",
            "Epoch 12/20\n",
            "990/990 [==============================] - 21s 21ms/step - loss: 0.0397 - accuracy: 0.9869 - val_loss: 0.1883 - val_accuracy: 0.9395\n",
            "Epoch 13/20\n",
            "990/990 [==============================] - 21s 22ms/step - loss: 0.0415 - accuracy: 0.9899 - val_loss: 0.2109 - val_accuracy: 0.9435\n",
            "Epoch 14/20\n",
            "990/990 [==============================] - 21s 21ms/step - loss: 0.0415 - accuracy: 0.9838 - val_loss: 0.2083 - val_accuracy: 0.9395\n",
            "Epoch 15/20\n",
            "990/990 [==============================] - 23s 23ms/step - loss: 0.0314 - accuracy: 0.9879 - val_loss: 0.1692 - val_accuracy: 0.9516\n",
            "Epoch 16/20\n",
            "990/990 [==============================] - 24s 25ms/step - loss: 0.0296 - accuracy: 0.9899 - val_loss: 0.2530 - val_accuracy: 0.9435\n",
            "Epoch 17/20\n",
            "990/990 [==============================] - 24s 25ms/step - loss: 0.0320 - accuracy: 0.9909 - val_loss: 0.1938 - val_accuracy: 0.9476\n",
            "Epoch 18/20\n",
            "990/990 [==============================] - 22s 23ms/step - loss: 0.0227 - accuracy: 0.9939 - val_loss: 0.2387 - val_accuracy: 0.9395\n",
            "Epoch 19/20\n",
            "990/990 [==============================] - 21s 21ms/step - loss: 0.0194 - accuracy: 0.9939 - val_loss: 0.2049 - val_accuracy: 0.9476\n",
            "Epoch 20/20\n",
            "990/990 [==============================] - 21s 22ms/step - loss: 0.0214 - accuracy: 0.9919 - val_loss: 0.2226 - val_accuracy: 0.9476\n"
          ],
          "name": "stdout"
        }
      ]
    },
    {
      "cell_type": "code",
      "metadata": {
        "id": "4bOZ-so-e3nK",
        "colab_type": "code",
        "colab": {},
        "outputId": "8dfcb2c5-6b73-4d93-befe-d92f97f573be"
      },
      "source": [
        "from matplotlib import pyplot as plt\n",
        "\n",
        "plt.plot(history.history['loss'],'r',label='training loss')\n",
        "plt.plot(history.history['val_loss'],label='validation loss')\n",
        "plt.xlabel('# epochs')\n",
        "plt.ylabel('loss')\n",
        "plt.legend()\n",
        "plt.show()"
      ],
      "execution_count": 0,
      "outputs": [
        {
          "output_type": "display_data",
          "data": {
            "image/png": "[encoded data removed]",
            "text/plain": [
              "<Figure size 432x288 with 1 Axes>"
            ]
          },
          "metadata": {
            "tags": [],
            "needs_background": "light"
          }
        }
      ]
    },
    {
      "cell_type": "code",
      "metadata": {
        "id": "PeqR0R_ne3nN",
        "colab_type": "code",
        "colab": {},
        "outputId": "7cfc0b78-65c1-4479-a5ee-55119153449b"
      },
      "source": [
        "plt.plot(history.history['accuracy'],'r',label='training accuracy')\n",
        "plt.plot(history.history['val_accuracy'],label='validation accuracy')\n",
        "plt.xlabel('# epochs')\n",
        "plt.ylabel('loss')\n",
        "plt.legend()\n",
        "plt.show()"
      ],
      "execution_count": 0,
      "outputs": [
        {
          "output_type": "display_data",
          "data": {
            "image/png": "[encoded data removed]",
            "text/plain": [
              "<Figure size 432x288 with 1 Axes>"
            ]
          },
          "metadata": {
            "tags": [],
            "needs_background": "light"
          }
        }
      ]
    },
    {
      "cell_type": "code",
      "metadata": {
        "id": "1SZ-PRvfe3nS",
        "colab_type": "code",
        "colab": {},
        "outputId": "479f6bbe-192f-4698-f0eb-c659229a2924"
      },
      "source": [
        "print(model.evaluate(test_data,test_target))"
      ],
      "execution_count": 0,
      "outputs": [
        {
          "output_type": "stream",
          "text": [
            "138/138 [==============================] - 1s 5ms/step\n",
            "[0.1581295565567047, 0.9492753744125366]\n"
          ],
          "name": "stdout"
        }
      ]
    },
    {
      "cell_type": "code",
      "metadata": {
        "id": "_VGVkgrze3nV",
        "colab_type": "code",
        "colab": {}
      },
      "source": [
        ""
      ],
      "execution_count": 0,
      "outputs": []
    }
  ]
}